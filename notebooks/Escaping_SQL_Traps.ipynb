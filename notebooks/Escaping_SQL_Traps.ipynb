{
 "cells": [
  {
   "cell_type": "code",
   "execution_count": 1,
   "metadata": {},
   "outputs": [],
   "source": [
    "import duckdb\n",
    "\n",
    "%load_ext sql\n",
    "conn = duckdb.connect(\"../dev.duckdb\")\n",
    "%sql conn --alias duckdb"
   ]
  },
  {
   "cell_type": "code",
   "execution_count": 2,
   "metadata": {},
   "outputs": [
    {
     "data": {
      "text/html": [
       "<span style=\"None\">Running query in &#x27;duckdb&#x27;</span>"
      ],
      "text/plain": [
       "Running query in 'duckdb'"
      ]
     },
     "metadata": {},
     "output_type": "display_data"
    },
    {
     "data": {
      "text/html": [
       "<table>\n",
       "    <thead>\n",
       "        <tr>\n",
       "            <th>name</th>\n",
       "        </tr>\n",
       "    </thead>\n",
       "    <tbody>\n",
       "        <tr>\n",
       "            <td>returns</td>\n",
       "        </tr>\n",
       "        <tr>\n",
       "            <td>sales</td>\n",
       "        </tr>\n",
       "    </tbody>\n",
       "</table>"
      ],
      "text/plain": [
       "+---------+\n",
       "|   name  |\n",
       "+---------+\n",
       "| returns |\n",
       "|  sales  |\n",
       "+---------+"
      ]
     },
     "execution_count": 2,
     "metadata": {},
     "output_type": "execute_result"
    }
   ],
   "source": [
    "%sql show tables;"
   ]
  },
  {
   "cell_type": "markdown",
   "metadata": {},
   "source": [
    "# Escaping SQL Traps with USS\n",
    "https://showmethedata.blog/sql-traps-unified-star-schema"
   ]
  },
  {
   "cell_type": "markdown",
   "metadata": {},
   "source": [
    "## Raw data"
   ]
  },
  {
   "cell_type": "code",
   "execution_count": 3,
   "metadata": {
    "vscode": {
     "languageId": "sql"
    }
   },
   "outputs": [
    {
     "data": {
      "text/html": [
       "<span style=\"None\">Running query in &#x27;duckdb&#x27;</span>"
      ],
      "text/plain": [
       "Running query in 'duckdb'"
      ]
     },
     "metadata": {},
     "output_type": "display_data"
    },
    {
     "data": {
      "text/html": [
       "<table>\n",
       "    <thead>\n",
       "        <tr>\n",
       "            <th>sale_id</th>\n",
       "            <th>sale_date</th>\n",
       "            <th>product</th>\n",
       "            <th>qty_sold</th>\n",
       "        </tr>\n",
       "    </thead>\n",
       "    <tbody>\n",
       "        <tr>\n",
       "            <td>1</td>\n",
       "            <td>2023-01-01</td>\n",
       "            <td>PR01</td>\n",
       "            <td>2</td>\n",
       "        </tr>\n",
       "        <tr>\n",
       "            <td>2</td>\n",
       "            <td>2023-01-02</td>\n",
       "            <td>PR02</td>\n",
       "            <td>5</td>\n",
       "        </tr>\n",
       "        <tr>\n",
       "            <td>3</td>\n",
       "            <td>2023-01-03</td>\n",
       "            <td>PR03</td>\n",
       "            <td>5</td>\n",
       "        </tr>\n",
       "    </tbody>\n",
       "</table>"
      ],
      "text/plain": [
       "+---------+------------+---------+----------+\n",
       "| sale_id | sale_date  | product | qty_sold |\n",
       "+---------+------------+---------+----------+\n",
       "|    1    | 2023-01-01 |   PR01  |    2     |\n",
       "|    2    | 2023-01-02 |   PR02  |    5     |\n",
       "|    3    | 2023-01-03 |   PR03  |    5     |\n",
       "+---------+------------+---------+----------+"
      ]
     },
     "execution_count": 3,
     "metadata": {},
     "output_type": "execute_result"
    }
   ],
   "source": [
    "%sql select * from sales;"
   ]
  },
  {
   "cell_type": "code",
   "execution_count": 4,
   "metadata": {
    "vscode": {
     "languageId": "sql"
    }
   },
   "outputs": [
    {
     "data": {
      "text/html": [
       "<span style=\"None\">Running query in &#x27;duckdb&#x27;</span>"
      ],
      "text/plain": [
       "Running query in 'duckdb'"
      ]
     },
     "metadata": {},
     "output_type": "display_data"
    },
    {
     "data": {
      "text/html": [
       "<table>\n",
       "    <thead>\n",
       "        <tr>\n",
       "            <th>return_id</th>\n",
       "            <th>sale_id</th>\n",
       "            <th>return_date</th>\n",
       "            <th>qty_returned</th>\n",
       "        </tr>\n",
       "    </thead>\n",
       "    <tbody>\n",
       "        <tr>\n",
       "            <td>1</td>\n",
       "            <td>1</td>\n",
       "            <td>2023-01-02</td>\n",
       "            <td>2</td>\n",
       "        </tr>\n",
       "        <tr>\n",
       "            <td>2</td>\n",
       "            <td>2</td>\n",
       "            <td>2023-01-03</td>\n",
       "            <td>5</td>\n",
       "        </tr>\n",
       "        <tr>\n",
       "            <td>3</td>\n",
       "            <td>3</td>\n",
       "            <td>2023-01-04</td>\n",
       "            <td>2</td>\n",
       "        </tr>\n",
       "        <tr>\n",
       "            <td>4</td>\n",
       "            <td>3</td>\n",
       "            <td>2023-01-05</td>\n",
       "            <td>3</td>\n",
       "        </tr>\n",
       "    </tbody>\n",
       "</table>"
      ],
      "text/plain": [
       "+-----------+---------+-------------+--------------+\n",
       "| return_id | sale_id | return_date | qty_returned |\n",
       "+-----------+---------+-------------+--------------+\n",
       "|     1     |    1    |  2023-01-02 |      2       |\n",
       "|     2     |    2    |  2023-01-03 |      5       |\n",
       "|     3     |    3    |  2023-01-04 |      2       |\n",
       "|     4     |    3    |  2023-01-05 |      3       |\n",
       "+-----------+---------+-------------+--------------+"
      ]
     },
     "execution_count": 4,
     "metadata": {},
     "output_type": "execute_result"
    }
   ],
   "source": [
    "%sql select * from returns;"
   ]
  },
  {
   "cell_type": "markdown",
   "metadata": {},
   "source": [
    "# Fan Trap\n",
    "> In data modelling, a fan trap occurs when multiple rows in one table refer to a single key in another table containing measures, leading to a duplication of the measures in the final joined result.\n",
    "\n",
    "In this case `Returns` table might hold many refereces to a single `Sale` (many to one). This will lead to `Sales` explosion. "
   ]
  },
  {
   "cell_type": "code",
   "execution_count": 5,
   "metadata": {
    "vscode": {
     "languageId": "sql"
    }
   },
   "outputs": [
    {
     "data": {
      "text/html": [
       "<span style=\"None\">Running query in &#x27;duckdb&#x27;</span>"
      ],
      "text/plain": [
       "Running query in 'duckdb'"
      ]
     },
     "metadata": {},
     "output_type": "display_data"
    },
    {
     "data": {
      "text/html": [
       "<table>\n",
       "    <thead>\n",
       "        <tr>\n",
       "            <th>return_id</th>\n",
       "            <th>sale_id</th>\n",
       "            <th>return_date</th>\n",
       "            <th>qty_returned</th>\n",
       "            <th>sale_date</th>\n",
       "            <th>product</th>\n",
       "            <th>qty_sold</th>\n",
       "        </tr>\n",
       "    </thead>\n",
       "    <tbody>\n",
       "        <tr>\n",
       "            <td>1</td>\n",
       "            <td>1</td>\n",
       "            <td>2023-01-02</td>\n",
       "            <td>2</td>\n",
       "            <td>2023-01-01</td>\n",
       "            <td>PR01</td>\n",
       "            <td>2</td>\n",
       "        </tr>\n",
       "        <tr>\n",
       "            <td>2</td>\n",
       "            <td>2</td>\n",
       "            <td>2023-01-03</td>\n",
       "            <td>5</td>\n",
       "            <td>2023-01-02</td>\n",
       "            <td>PR02</td>\n",
       "            <td>5</td>\n",
       "        </tr>\n",
       "        <tr>\n",
       "            <td>3</td>\n",
       "            <td>3</td>\n",
       "            <td>2023-01-04</td>\n",
       "            <td>2</td>\n",
       "            <td>2023-01-03</td>\n",
       "            <td>PR03</td>\n",
       "            <td>5</td>\n",
       "        </tr>\n",
       "        <tr>\n",
       "            <td>4</td>\n",
       "            <td>3</td>\n",
       "            <td>2023-01-05</td>\n",
       "            <td>3</td>\n",
       "            <td>2023-01-03</td>\n",
       "            <td>PR03</td>\n",
       "            <td>5</td>\n",
       "        </tr>\n",
       "    </tbody>\n",
       "</table>"
      ],
      "text/plain": [
       "+-----------+---------+-------------+--------------+------------+---------+----------+\n",
       "| return_id | sale_id | return_date | qty_returned | sale_date  | product | qty_sold |\n",
       "+-----------+---------+-------------+--------------+------------+---------+----------+\n",
       "|     1     |    1    |  2023-01-02 |      2       | 2023-01-01 |   PR01  |    2     |\n",
       "|     2     |    2    |  2023-01-03 |      5       | 2023-01-02 |   PR02  |    5     |\n",
       "|     3     |    3    |  2023-01-04 |      2       | 2023-01-03 |   PR03  |    5     |\n",
       "|     4     |    3    |  2023-01-05 |      3       | 2023-01-03 |   PR03  |    5     |\n",
       "+-----------+---------+-------------+--------------+------------+---------+----------+"
      ]
     },
     "execution_count": 5,
     "metadata": {},
     "output_type": "execute_result"
    }
   ],
   "source": [
    "%%sql\n",
    "select\n",
    "    *\n",
    "from returns\n",
    "join sales using (sale_id);"
   ]
  },
  {
   "cell_type": "markdown",
   "metadata": {},
   "source": [
    "# Chasm Trap\n",
    "> The chasm trap occurs when a target table (referred to via foreign keys) gets exploded by 2 or more other tables, causing an effect similar to a cartesian product. Since the number of participating tables is unbounded and they all explode each other, the chasm trap can produce many more unwanted duplicates than a fan trap."
   ]
  }
 ],
 "metadata": {
  "kernelspec": {
   "display_name": ".venv",
   "language": "python",
   "name": "python3"
  },
  "language_info": {
   "codemirror_mode": {
    "name": "ipython",
    "version": 3
   },
   "file_extension": ".py",
   "mimetype": "text/x-python",
   "name": "python",
   "nbconvert_exporter": "python",
   "pygments_lexer": "ipython3",
   "version": "3.11.7"
  }
 },
 "nbformat": 4,
 "nbformat_minor": 2
}
